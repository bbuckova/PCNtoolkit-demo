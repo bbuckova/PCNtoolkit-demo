{
 "cells": [
  {
   "cell_type": "markdown",
   "metadata": {
    "id": "hnjOHEPnSgqZ"
   },
   "source": [
    "# SVM classification SZ vs. HC "
   ]
  },
  {
   "cell_type": "markdown",
   "metadata": {
    "id": "T1dgnArWand-"
   },
   "source": [
    "Classify schizophrenia group from controls using cortical thickness deviation scores (z-scores) and then the true cortical thickness data to see which type of data better separates the groups."
   ]
  },
  {
   "cell_type": "code",
   "execution_count": null,
   "metadata": {
    "colab": {
     "base_uri": "https://localhost:8080/"
    },
    "id": "r9Nb_AVvnMT4",
    "outputId": "5463fddf-5717-4dc9-b94f-89b37e35b0e6"
   },
   "outputs": [],
   "source": [
    "! git clone https://github.com/predictive-clinical-neuroscience/PCNtoolkit-demo.git"
   ]
  },
  {
   "cell_type": "code",
   "execution_count": 2,
   "metadata": {
    "id": "oer08RX7Sgqc"
   },
   "outputs": [],
   "source": [
    "import pandas as pd\n",
    "import numpy as np\n",
    "import os\n",
    "import matplotlib.pyplot as plt\n",
    "os.chdir('/content/PCNtoolkit-demo/')"
   ]
  },
  {
   "cell_type": "code",
   "execution_count": 3,
   "metadata": {
    "id": "kBA6wv5_Sgqd"
   },
   "outputs": [],
   "source": [
    "Z_df = pd.read_csv('data/fcon1000_te_Z.csv')"
   ]
  },
  {
   "cell_type": "code",
   "execution_count": 4,
   "metadata": {
    "id": "_AtT_a9QSgqe"
   },
   "outputs": [],
   "source": [
    "from sklearn import svm\n",
    "from sklearn.metrics import auc\n",
    "from sklearn.metrics import RocCurveDisplay\n",
    "from sklearn.model_selection import StratifiedKFold"
   ]
  },
  {
   "cell_type": "code",
   "execution_count": 5,
   "metadata": {
    "id": "0m3frZSqWHFt"
   },
   "outputs": [],
   "source": [
    "Z_df.dropna(subset=['group'], inplace=True)"
   ]
  },
  {
   "cell_type": "code",
   "execution_count": 6,
   "metadata": {
    "id": "reWNrhN6Wge0"
   },
   "outputs": [],
   "source": [
    "Z_df['group'] = Z_df['group'].replace(\"SZ\",0)"
   ]
  },
  {
   "cell_type": "code",
   "execution_count": 7,
   "metadata": {
    "id": "LuddguUsW_UI"
   },
   "outputs": [],
   "source": [
    "Z_df['group'] = Z_df['group'].replace(\"Control\",1)"
   ]
  },
  {
   "cell_type": "code",
   "execution_count": 8,
   "metadata": {
    "id": "wBuQvJKqVz0p"
   },
   "outputs": [],
   "source": [
    "deviations = Z_df.loc[:, Z_df.columns.str.contains('Z_predict')]"
   ]
  },
  {
   "cell_type": "code",
   "execution_count": 9,
   "metadata": {
    "id": "QZvu0iXlZg7P"
   },
   "outputs": [],
   "source": [
    "cortical_thickness = Z_df.loc[:, Z_df.columns.str.endswith('_thickness')]"
   ]
  },
  {
   "cell_type": "code",
   "execution_count": 10,
   "metadata": {
    "id": "HECqM4rZVcD9"
   },
   "outputs": [],
   "source": [
    "# Data IO and generation\n",
    "X1 = deviations\n",
    "X2 = cortical_thickness\n",
    "y = Z_df['group']\n",
    "n_samples, n_features = X1.shape\n",
    "random_state = np.random.RandomState(0)"
   ]
  },
  {
   "cell_type": "code",
   "execution_count": 11,
   "metadata": {
    "id": "iho4wkAESgqf"
   },
   "outputs": [],
   "source": [
    "X1 = X1.to_numpy()"
   ]
  },
  {
   "cell_type": "code",
   "execution_count": 12,
   "metadata": {
    "id": "zi7v5e8vZ0Ms"
   },
   "outputs": [],
   "source": [
    "X2 = X2.to_numpy()"
   ]
  },
  {
   "cell_type": "code",
   "execution_count": 13,
   "metadata": {
    "id": "xcA4w73TSgqf"
   },
   "outputs": [],
   "source": [
    "y = y.astype(int)"
   ]
  },
  {
   "cell_type": "code",
   "execution_count": 14,
   "metadata": {
    "id": "mKcM-dA3ZG_u"
   },
   "outputs": [],
   "source": [
    "y = y.to_numpy()"
   ]
  },
  {
   "cell_type": "markdown",
   "metadata": {
    "id": "mg91RPdXnMT_",
    "tags": []
   },
   "source": [
    "## Deviation scores as features"
   ]
  },
  {
   "cell_type": "code",
   "execution_count": null,
   "metadata": {
    "colab": {
     "base_uri": "https://localhost:8080/",
     "height": 1000
    },
    "id": "NNRcb-pvSgqf",
    "outputId": "a0c29218-c76e-4a06-d65b-2c02c0612df8"
   },
   "outputs": [],
   "source": [
    "# #############################################################################\n",
    "# Classification and ROC analysis\n",
    "\n",
    "# Run classifier with cross-validation and plot ROC curves\n",
    "cv = StratifiedKFold(n_splits=5)\n",
    "classifier = svm.SVC(kernel='linear', probability=True,\n",
    "                     random_state=random_state)\n",
    "\n",
    "tprs = []\n",
    "aucs = []\n",
    "mean_fpr = np.linspace(0, 1, 100)\n",
    "\n",
    "fig, ax = plt.subplots(figsize=(15,15))\n",
    "parameters = {'axes.labelsize': 20,\n",
    "          'axes.titlesize': 25, 'xtick.labelsize':16,'ytick.labelsize':16,'legend.fontsize':14,'legend.title_fontsize':16}\n",
    "plt.rcParams.update(parameters)\n",
    "\n",
    "for i, (train, test) in enumerate(cv.split(X1, y)):\n",
    "    classifier.fit(X1[train], y[train])\n",
    "    viz = RocCurveDisplay.from_estimator(classifier, X1[test], y[test],\n",
    "                         name='ROC fold {}'.format(i),\n",
    "                         alpha=0.3, lw=1, ax=ax)\n",
    "    interp_tpr = np.interp(mean_fpr, viz.fpr, viz.tpr)\n",
    "    interp_tpr[0] = 0.0\n",
    "    tprs.append(interp_tpr)\n",
    "    aucs.append(viz.roc_auc)\n",
    "\n",
    "ax.plot([0, 1], [0, 1], linestyle='--', lw=2, color='r',\n",
    "        label='Chance', alpha=.8)\n",
    "\n",
    "mean_tpr = np.mean(tprs, axis=0)\n",
    "mean_tpr[-1] = 1.0\n",
    "mean_auc = auc(mean_fpr, mean_tpr)\n",
    "std_auc = np.std(aucs)\n",
    "ax.plot(mean_fpr, mean_tpr, color='b',\n",
    "        label=r'Mean ROC (AUC = %0.2f $\\pm$ %0.2f)' % (mean_auc, std_auc),\n",
    "        lw=2, alpha=.8)\n",
    "\n",
    "std_tpr = np.std(tprs, axis=0)\n",
    "tprs_upper = np.minimum(mean_tpr + std_tpr, 1)\n",
    "tprs_lower = np.maximum(mean_tpr - std_tpr, 0)\n",
    "ax.fill_between(mean_fpr, tprs_lower, tprs_upper, color='grey', alpha=.2,\n",
    "                label=r'$\\pm$ 1 std. dev.')\n",
    "\n",
    "ax.set(xlim=[-0.05, 1.05], ylim=[-0.05, 1.05])\n",
    "ax.set_title('Receiver operating characteristic SZ vs. HC (deviations)', fontweight=\"bold\", size=20)\n",
    "ax.legend(loc=\"lower right\")\n",
    "plt.show()"
   ]
  },
  {
   "cell_type": "markdown",
   "metadata": {
    "id": "rttzkzqZnMUB",
    "tags": []
   },
   "source": [
    "## Raw cortical thickness data as features"
   ]
  },
  {
   "cell_type": "code",
   "execution_count": null,
   "metadata": {
    "colab": {
     "base_uri": "https://localhost:8080/",
     "height": 1000
    },
    "id": "WYPilmZOaNgs",
    "outputId": "e7b640ff-5833-4fa6-fe32-417cbbe63a85"
   },
   "outputs": [],
   "source": [
    "# #############################################################################\n",
    "# Classification and ROC analysis\n",
    "\n",
    "# Run classifier with cross-validation and plot ROC curves\n",
    "cv = StratifiedKFold(n_splits=5)\n",
    "classifier = svm.SVC(kernel='linear', probability=True,\n",
    "                     random_state=random_state)\n",
    "\n",
    "tprs = []\n",
    "aucs = []\n",
    "mean_fpr = np.linspace(0, 1, 100)\n",
    "\n",
    "fig, ax = plt.subplots(figsize=(15,15))\n",
    "parameters = {'axes.labelsize': 20,\n",
    "          'axes.titlesize': 25, 'xtick.labelsize':16,'ytick.labelsize':16,'legend.fontsize':14,'legend.title_fontsize':16}\n",
    "plt.rcParams.update(parameters)\n",
    "\n",
    "for i, (train, test) in enumerate(cv.split(X2, y)):\n",
    "    classifier.fit(X2[train], y[train])\n",
    "    viz = RocCurveDisplay.from_estimator(classifier, X2[test], y[test],\n",
    "                         name='ROC fold {}'.format(i),\n",
    "                         alpha=0.3, lw=1, ax=ax)\n",
    "    interp_tpr = np.interp(mean_fpr, viz.fpr, viz.tpr)\n",
    "    interp_tpr[0] = 0.0\n",
    "    tprs.append(interp_tpr)\n",
    "    aucs.append(viz.roc_auc)\n",
    "\n",
    "ax.plot([0, 1], [0, 1], linestyle='--', lw=2, color='r',\n",
    "        label='Chance', alpha=.8)\n",
    "\n",
    "mean_tpr = np.mean(tprs, axis=0)\n",
    "mean_tpr[-1] = 1.0\n",
    "mean_auc = auc(mean_fpr, mean_tpr)\n",
    "std_auc = np.std(aucs)\n",
    "ax.plot(mean_fpr, mean_tpr, color='b',\n",
    "        label=r'Mean ROC (AUC = %0.2f $\\pm$ %0.2f)' % (mean_auc, std_auc),\n",
    "        lw=2, alpha=.8)\n",
    "\n",
    "std_tpr = np.std(tprs, axis=0)\n",
    "tprs_upper = np.minimum(mean_tpr + std_tpr, 1)\n",
    "tprs_lower = np.maximum(mean_tpr - std_tpr, 0)\n",
    "ax.fill_between(mean_fpr, tprs_lower, tprs_upper, color='grey', alpha=.2,\n",
    "                label=r'$\\pm$ 1 std. dev.')\n",
    "\n",
    "ax.set(xlim=[-0.05, 1.05], ylim=[-0.05, 1.05])\n",
    "ax.set_title('Receiver operating characteristic SZ vs. HC (cortical thickness)', fontweight=\"bold\", size=20)\n",
    "ax.legend(loc=\"lower right\")\n",
    "plt.show()"
   ]
  },
  {
   "cell_type": "markdown",
   "metadata": {
    "id": "Y9iIgxR1YMzq"
   },
   "source": [
    "Which brain feature leads to a better classification between SZ & HC? "
   ]
  },
  {
   "cell_type": "markdown",
   "metadata": {
    "id": "AwK2eOiFnMUC"
   },
   "source": [
    "# Classical case-control testing"
   ]
  },
  {
   "cell_type": "code",
   "execution_count": null,
   "metadata": {
    "id": "QMnXtaHcnMUC"
   },
   "outputs": [],
   "source": [
    "! pip install statsmodels"
   ]
  },
  {
   "cell_type": "code",
   "execution_count": null,
   "metadata": {
    "colab": {
     "base_uri": "https://localhost:8080/"
    },
    "id": "rX8sgn_BnMUC",
    "outputId": "663c6ba2-6b67-4242-df5e-736f0b2ca8a9"
   },
   "outputs": [],
   "source": [
    "from scipy.stats import ttest_ind\n",
    "from statsmodels.stats import multitest"
   ]
  },
  {
   "cell_type": "code",
   "execution_count": 19,
   "metadata": {
    "id": "KfpFw1kAnMUD"
   },
   "outputs": [],
   "source": [
    "SZ = Z_df.query('group == 0')\n",
    "HC = Z_df.query('group == 1')"
   ]
  },
  {
   "cell_type": "markdown",
   "metadata": {
    "id": "AiimUDe6nMUD"
   },
   "source": [
    "### Mass univariate two sample t-tests on deviation score maps"
   ]
  },
  {
   "cell_type": "code",
   "execution_count": 20,
   "metadata": {
    "id": "ssVXAgqGnMUD"
   },
   "outputs": [],
   "source": [
    "SZ_deviations = SZ.loc[:, SZ.columns.str.contains('Z_predict')]"
   ]
  },
  {
   "cell_type": "code",
   "execution_count": 21,
   "metadata": {
    "id": "lqtHyKrrnMUD"
   },
   "outputs": [],
   "source": [
    "HC_deviations = HC.loc[:, HC.columns.str.contains('Z_predict')]"
   ]
  },
  {
   "cell_type": "code",
   "execution_count": 22,
   "metadata": {
    "id": "BCJpEI8NnMUD"
   },
   "outputs": [],
   "source": [
    "z_cols = SZ_deviations.columns"
   ]
  },
  {
   "cell_type": "code",
   "execution_count": 23,
   "metadata": {
    "id": "VdQgUo29nMUD"
   },
   "outputs": [],
   "source": [
    "sz_hc_pvals_z = pd.DataFrame(columns={'roi','pval', 'tstat','fdr_pval'})\n",
    "for index, column in enumerate(z_cols):\n",
    "    test = ttest_ind(SZ_deviations[column], HC_deviations[column])\n",
    "    sz_hc_pvals_z.loc[index, 'pval'] = test.pvalue\n",
    "    sz_hc_pvals_z.loc[index, 'tstat'] = test.statistic\n",
    "    sz_hc_pvals_z.loc[index, 'roi'] = column"
   ]
  },
  {
   "cell_type": "code",
   "execution_count": 24,
   "metadata": {
    "id": "n8JfELPdnMUE"
   },
   "outputs": [],
   "source": [
    "sz_hc_fdr_z = multitest.fdrcorrection(sz_hc_pvals_z['pval'], alpha=0.05, method='indep', is_sorted=False)"
   ]
  },
  {
   "cell_type": "code",
   "execution_count": 25,
   "metadata": {
    "id": "K5panqSGnMUE"
   },
   "outputs": [],
   "source": [
    "sz_hc_pvals_z['fdr_pval'] = sz_hc_fdr_z[1]"
   ]
  },
  {
   "cell_type": "code",
   "execution_count": 26,
   "metadata": {
    "id": "cjZ8HZMYnMUE"
   },
   "outputs": [],
   "source": [
    "sz_hc_z_sig_diff = sz_hc_pvals_z.query('fdr_pval < 0.05')"
   ]
  },
  {
   "cell_type": "code",
   "execution_count": null,
   "metadata": {
    "colab": {
     "base_uri": "https://localhost:8080/",
     "height": 423
    },
    "id": "F01JkqAwnMUE",
    "outputId": "a117d7cf-dd4f-423a-e23b-66fd060deadd"
   },
   "outputs": [],
   "source": [
    "sz_hc_z_sig_diff"
   ]
  },
  {
   "cell_type": "code",
   "execution_count": 28,
   "metadata": {
    "colab": {
     "base_uri": "https://localhost:8080/"
    },
    "id": "170sEtkynMUE",
    "outputId": "7b601d8d-c73e-44ba-a523-4eddb6dea46b"
   },
   "outputs": [
    {
     "data": {
      "text/plain": [
       "(96, 4)"
      ]
     },
     "execution_count": 28,
     "metadata": {},
     "output_type": "execute_result"
    }
   ],
   "source": [
    "sz_hc_z_sig_diff.shape"
   ]
  },
  {
   "cell_type": "markdown",
   "metadata": {
    "id": "jBl4sCdCnMUF"
   },
   "source": [
    "### Mass univariate two sample t-tests on deviation score maps and true cortical thickness data"
   ]
  },
  {
   "cell_type": "code",
   "execution_count": 29,
   "metadata": {
    "id": "haGyz0MinMUF"
   },
   "outputs": [],
   "source": [
    "SZ_cortical_thickness = SZ.loc[:, SZ.columns.str.endswith('_thickness')]"
   ]
  },
  {
   "cell_type": "code",
   "execution_count": 30,
   "metadata": {
    "id": "4tjSuZgUnMUF"
   },
   "outputs": [],
   "source": [
    "HC_cortical_thickness = HC.loc[:, HC.columns.str.endswith('_thickness')]"
   ]
  },
  {
   "cell_type": "code",
   "execution_count": 31,
   "metadata": {
    "id": "YtZhZifinMUF"
   },
   "outputs": [],
   "source": [
    "ct_cols = SZ_cortical_thickness.columns"
   ]
  },
  {
   "cell_type": "code",
   "execution_count": 32,
   "metadata": {
    "id": "T3UXSzTRnMUG"
   },
   "outputs": [],
   "source": [
    "sz_hc_pvals_ct = pd.DataFrame(columns={'roi','pval', 'tstat','fdr_pval'})\n",
    "for index, column in enumerate(ct_cols):\n",
    "    test = ttest_ind(SZ_cortical_thickness[column], HC_cortical_thickness[column])\n",
    "    sz_hc_pvals_ct.loc[index, 'pval'] = test.pvalue\n",
    "    sz_hc_pvals_ct.loc[index, 'tstat'] = test.statistic\n",
    "    sz_hc_pvals_ct.loc[index, 'roi'] = column"
   ]
  },
  {
   "cell_type": "code",
   "execution_count": 33,
   "metadata": {
    "id": "Fp8FT3EonMUG"
   },
   "outputs": [],
   "source": [
    "sz_hc_fdr_ct = multitest.fdrcorrection(sz_hc_pvals_ct['pval'], alpha=0.05, method='indep', is_sorted=False)"
   ]
  },
  {
   "cell_type": "code",
   "execution_count": 34,
   "metadata": {
    "id": "JZyhz9HnnMUG"
   },
   "outputs": [],
   "source": [
    "sz_hc_pvals_ct['fdr_pval'] = sz_hc_fdr_ct[1]"
   ]
  },
  {
   "cell_type": "code",
   "execution_count": 35,
   "metadata": {
    "id": "MKMDWt1enMUG"
   },
   "outputs": [],
   "source": [
    "sz_hc_ct_sig_diff = sz_hc_pvals_ct.query('fdr_pval < 0.05')"
   ]
  },
  {
   "cell_type": "code",
   "execution_count": null,
   "metadata": {
    "colab": {
     "base_uri": "https://localhost:8080/",
     "height": 423
    },
    "id": "1vmDBdH8nMUG",
    "outputId": "fb1f901f-3451-4a8f-dc6c-572dba8d58c0"
   },
   "outputs": [],
   "source": [
    "sz_hc_ct_sig_diff"
   ]
  },
  {
   "cell_type": "code",
   "execution_count": 37,
   "metadata": {
    "colab": {
     "base_uri": "https://localhost:8080/"
    },
    "id": "wzFP9fH2nMUG",
    "outputId": "5ec01491-75a7-45fb-ba8f-588f2c03215c"
   },
   "outputs": [
    {
     "data": {
      "text/plain": [
       "(67, 4)"
      ]
     },
     "execution_count": 37,
     "metadata": {},
     "output_type": "execute_result"
    }
   ],
   "source": [
    "sz_hc_ct_sig_diff.shape"
   ]
  }
 ],
 "metadata": {
  "colab": {
   "name": "4_post_hoc_analysis.ipynb",
   "provenance": []
  },
  "kernelspec": {
   "display_name": "Python 3 (ipykernel)",
   "language": "python",
   "name": "python3"
  },
  "language_info": {
   "codemirror_mode": {
    "name": "ipython",
    "version": 3
   },
   "file_extension": ".py",
   "mimetype": "text/x-python",
   "name": "python",
   "nbconvert_exporter": "python",
   "pygments_lexer": "ipython3",
   "version": "3.9.7"
  }
 },
 "nbformat": 4,
 "nbformat_minor": 4
}
